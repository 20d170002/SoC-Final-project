{
  "nbformat": 4,
  "nbformat_minor": 0,
  "metadata": {
    "colab": {
      "name": "Phase 1-Crash Course.ipynb",
      "provenance": [],
      "authorship_tag": "ABX9TyNWPgzW2bbuqZxd6QnQyqAS",
      "include_colab_link": true
    },
    "kernelspec": {
      "name": "python3",
      "display_name": "Python 3"
    },
    "language_info": {
      "name": "python"
    }
  },
  "cells": [
    {
      "cell_type": "markdown",
      "metadata": {
        "id": "view-in-github",
        "colab_type": "text"
      },
      "source": [
        "<a href=\"https://colab.research.google.com/github/20d170002/SoC-Final-project/blob/main/Phase_1_Crash_Course.ipynb\" target=\"_parent\"><img src=\"https://colab.research.google.com/assets/colab-badge.svg\" alt=\"Open In Colab\"/></a>"
      ]
    },
    {
      "cell_type": "code",
      "metadata": {
        "id": "-9xjB0hxZE8l",
        "colab": {
          "base_uri": "https://localhost:8080/"
        },
        "outputId": "62feef6a-69e2-42ab-9804-78b027fc9fc9"
      },
      "source": [
        "1.0"
      ],
      "execution_count": null,
      "outputs": [
        {
          "output_type": "execute_result",
          "data": {
            "text/plain": [
              "1.0"
            ]
          },
          "metadata": {
            "tags": []
          },
          "execution_count": 1
        }
      ]
    },
    {
      "cell_type": "code",
      "metadata": {
        "id": "lagkDK5EZFoE",
        "colab": {
          "base_uri": "https://localhost:8080/"
        },
        "outputId": "ada8e2eb-d5b6-4cf1-c230-dd337933550c"
      },
      "source": [
        "3** 5\n",
        "print(15/4)\n",
        "print(15//4)"
      ],
      "execution_count": null,
      "outputs": [
        {
          "output_type": "stream",
          "text": [
            "3.75\n",
            "3\n"
          ],
          "name": "stdout"
        }
      ]
    },
    {
      "cell_type": "code",
      "metadata": {
        "colab": {
          "base_uri": "https://localhost:8080/"
        },
        "id": "RQn8JXg5Wmkc",
        "outputId": "f1ffb4eb-b032-487a-acbe-7844dcc0d941"
      },
      "source": [
        "# string comments\n",
        "\" I can't go \"\n",
        "name = 'Sam'\n",
        "num = 12\n",
        "print (\"My number is {} and my name is {}.\". format(num, name))\n",
        "print (\"My number is {one} and my name is {two}, more {one}.\". format(one=num, two=name))\n",
        "\n"
      ],
      "execution_count": null,
      "outputs": [
        {
          "output_type": "stream",
          "text": [
            "My number is 12 and my name is Sam.\n",
            "My number is 12 and my name is Sam, more 12.\n"
          ],
          "name": "stdout"
        }
      ]
    },
    {
      "cell_type": "code",
      "metadata": {
        "colab": {
          "base_uri": "https://localhost:8080/",
          "height": 35
        },
        "id": "-LHhcE5LYs8U",
        "outputId": "bec813f9-8d3a-4c50-b98b-1e9934dc5649"
      },
      "source": [
        "s= \"hello\"\n",
        "s[0], s[4]\n",
        "s[1:] #prints every element from index 1 till the end\n",
        "s[:3] # prins evry element from index 0 to 3 ( 3 not included)\n",
        "p= \"abcdefghi\"\n",
        "p[3:6] # upper limit not included\n",
        "#slices #grab items from nested list\n"
      ],
      "execution_count": null,
      "outputs": [
        {
          "output_type": "execute_result",
          "data": {
            "application/vnd.google.colaboratory.intrinsic+json": {
              "type": "string"
            },
            "text/plain": [
              "'def'"
            ]
          },
          "metadata": {
            "tags": []
          },
          "execution_count": 18
        }
      ]
    },
    {
      "cell_type": "code",
      "metadata": {
        "colab": {
          "base_uri": "https://localhost:8080/"
        },
        "id": "edCDBDxBaxb4",
        "outputId": "90787946-9298-4cec-b95d-68586d207743"
      },
      "source": [
        "# dictionary.      dic={'key' : 'value'} format curly bracket\n",
        "d = {'key1' : 'value', 'key2' : 123}\n",
        "d['key1'], d['key2']\n",
        "d={ 'k1' :[1,2,3]}\n",
        "d['k1'][1]\n",
        "my_list = [1,2,3] #square braces for list\n",
        "my_list[1]\n",
        "tup = (1,2,3) # parenthesis for tuple\n",
        "tup[0]\n",
        "my_list[0]='NEW'\n",
        "my_list # assignment, value changed in list\n",
        "#tup[0]= 'hi' # tuple doesn't support item assignment. can't change immutable\n",
        "#set \n",
        "{ 1,1,1,2,2,3,3,3,3}\n"
      ],
      "execution_count": null,
      "outputs": [
        {
          "output_type": "execute_result",
          "data": {
            "text/plain": [
              "{1, 2, 3}"
            ]
          },
          "metadata": {
            "tags": []
          },
          "execution_count": 28
        }
      ]
    },
    {
      "cell_type": "code",
      "metadata": {
        "colab": {
          "base_uri": "https://localhost:8080/"
        },
        "id": "afuP8ZEVd5xl",
        "outputId": "35114f3d-4e75-4dfe-a30a-8b1dd2729cad"
      },
      "source": [
        "1<2\n",
        "1>2\n",
        "1<=2\n",
        "1 !=2\n",
        "'hi'!='bye'\n",
        "1<2 and 2<3 #and or operator"
      ],
      "execution_count": null,
      "outputs": [
        {
          "output_type": "execute_result",
          "data": {
            "text/plain": [
              "True"
            ]
          },
          "metadata": {
            "tags": []
          },
          "execution_count": 34
        }
      ]
    },
    {
      "cell_type": "code",
      "metadata": {
        "colab": {
          "base_uri": "https://localhost:8080/"
        },
        "id": "HhkF09NTe2OG",
        "outputId": "a503d709-aad6-4679-c355-4f06c4d86112"
      },
      "source": [
        "#if \n",
        "if 1<2:\n",
        "  print ('yep!')"
      ],
      "execution_count": null,
      "outputs": [
        {
          "output_type": "stream",
          "text": [
            "yep!\n"
          ],
          "name": "stdout"
        }
      ]
    },
    {
      "cell_type": "code",
      "metadata": {
        "colab": {
          "base_uri": "https://localhost:8080/"
        },
        "id": "JJGDrEB5fBDK",
        "outputId": "b26bba21-0fb0-42fd-d318-912e1cc67b12"
      },
      "source": [
        "if 1==2:\n",
        "  print('first')\n",
        "elif 3==3:      #elif == else if\n",
        "  print('second')  \n",
        "else:\n",
        "  print('last')\n",
        "  "
      ],
      "execution_count": null,
      "outputs": [
        {
          "output_type": "stream",
          "text": [
            "second\n"
          ],
          "name": "stdout"
        }
      ]
    },
    {
      "cell_type": "code",
      "metadata": {
        "colab": {
          "base_uri": "https://localhost:8080/"
        },
        "id": "awzgYKCugSa8",
        "outputId": "144eed58-a909-403d-fa3a-95611f91c0cd"
      },
      "source": [
        "seq =[1,2,3,4,5]\n",
        "for num in seq:\n",
        "  print(num)\n",
        "# for loop format: for \"var\" in \"list\"\n"
      ],
      "execution_count": null,
      "outputs": [
        {
          "output_type": "stream",
          "text": [
            "1\n",
            "2\n",
            "3\n",
            "4\n",
            "5\n"
          ],
          "name": "stdout"
        }
      ]
    },
    {
      "cell_type": "code",
      "metadata": {
        "colab": {
          "base_uri": "https://localhost:8080/"
        },
        "id": "5M_R-COEhMIi",
        "outputId": "08f7840f-e9ca-4085-a419-7ea7142692fa"
      },
      "source": [
        "# while loop\n",
        "i=1\n",
        "while i<5:\n",
        "  print('i is {}'.format(i)) #infinite loop\n",
        "  i=i+1\n",
        "  "
      ],
      "execution_count": null,
      "outputs": [
        {
          "output_type": "stream",
          "text": [
            "i is 1\n",
            "i is 2\n",
            "i is 3\n",
            "i is 4\n"
          ],
          "name": "stdout"
        }
      ]
    },
    {
      "cell_type": "code",
      "metadata": {
        "colab": {
          "base_uri": "https://localhost:8080/"
        },
        "id": "itWJIwTyiAaJ",
        "outputId": "3cc163df-ec13-4b34-abe4-e8dca0ced18a"
      },
      "source": [
        "print(list(range(2,7))) #range(i,j)= starts from i and goes to j-1. it excludes j and includes i\n"
      ],
      "execution_count": null,
      "outputs": [
        {
          "output_type": "stream",
          "text": [
            "[2, 3, 4, 5, 6]\n"
          ],
          "name": "stdout"
        }
      ]
    },
    {
      "cell_type": "code",
      "metadata": {
        "colab": {
          "base_uri": "https://localhost:8080/"
        },
        "id": "StUPbdIIjO0z",
        "outputId": "a8a72e85-cb74-425e-9373-1702202bc352"
      },
      "source": [
        "x=[1,2,3,4]\n",
        "out=[]\n",
        "for num in x:\n",
        "  out.append(num**2)  # in python indentation makes it clear if the command is inside loop or outside\n",
        "\n",
        "print(out)"
      ],
      "execution_count": null,
      "outputs": [
        {
          "output_type": "stream",
          "text": [
            "[1, 4, 9, 16]\n"
          ],
          "name": "stdout"
        }
      ]
    },
    {
      "cell_type": "code",
      "metadata": {
        "colab": {
          "base_uri": "https://localhost:8080/"
        },
        "id": "9zTUKrV7kkWT",
        "outputId": "5b94311f-2427-4ab2-c54c-01e381514865"
      },
      "source": [
        "nice =[num**2 for num in x ]\n",
        "print(nice)"
      ],
      "execution_count": null,
      "outputs": [
        {
          "output_type": "stream",
          "text": [
            "[1, 4, 9, 16]\n"
          ],
          "name": "stdout"
        }
      ]
    },
    {
      "cell_type": "code",
      "metadata": {
        "colab": {
          "base_uri": "https://localhost:8080/"
        },
        "id": "RilNG4LLlOTt",
        "outputId": "8659676b-9813-46da-9449-02df499c0da8"
      },
      "source": [
        "# define a function using \"def function_name(parameters):\"\n",
        "def my_func(param1):\n",
        "  print(param1)\n",
        "my_func('hello')\n"
      ],
      "execution_count": null,
      "outputs": [
        {
          "output_type": "stream",
          "text": [
            "hello\n"
          ],
          "name": "stdout"
        }
      ]
    },
    {
      "cell_type": "code",
      "metadata": {
        "colab": {
          "base_uri": "https://localhost:8080/"
        },
        "id": "PHZciVm1lxD4",
        "outputId": "849f743b-5458-458d-e438-a09379006409"
      },
      "source": [
        "def my_func(name):\n",
        "  print('Hello '+name)\n",
        "my_func('Aadya')\n"
      ],
      "execution_count": null,
      "outputs": [
        {
          "output_type": "stream",
          "text": [
            "Hello Aadya\n"
          ],
          "name": "stdout"
        }
      ]
    },
    {
      "cell_type": "code",
      "metadata": {
        "colab": {
          "base_uri": "https://localhost:8080/"
        },
        "id": "q9MJCFmXmhHE",
        "outputId": "d40df63f-0b05-4292-fc54-24b0d7a8464a"
      },
      "source": [
        "def square(num):\n",
        "  return num**2\n",
        "output=square(2)  \n",
        "output"
      ],
      "execution_count": null,
      "outputs": [
        {
          "output_type": "execute_result",
          "data": {
            "text/plain": [
              "4"
            ]
          },
          "metadata": {
            "tags": []
          },
          "execution_count": 55
        }
      ]
    },
    {
      "cell_type": "code",
      "metadata": {
        "colab": {
          "base_uri": "https://localhost:8080/"
        },
        "id": "TWRbGMs2ot-B",
        "outputId": "87568c18-fff0-472b-db01-457a5e3a8c05"
      },
      "source": [
        "def times2(num):\n",
        "  return 2*num\n",
        "times2(5)  "
      ],
      "execution_count": null,
      "outputs": [
        {
          "output_type": "execute_result",
          "data": {
            "text/plain": [
              "10"
            ]
          },
          "metadata": {
            "tags": []
          },
          "execution_count": 56
        }
      ]
    },
    {
      "cell_type": "code",
      "metadata": {
        "colab": {
          "base_uri": "https://localhost:8080/"
        },
        "id": "CKuITSCJo-YE",
        "outputId": "ba5344c0-daf3-446f-eafd-1544ff53fd96"
      },
      "source": [
        "#map function\n",
        "seq= [1,2,3,4,5]\n",
        "list(map(times2, seq))\n"
      ],
      "execution_count": null,
      "outputs": [
        {
          "output_type": "execute_result",
          "data": {
            "text/plain": [
              "[2, 4, 6, 8, 10]"
            ]
          },
          "metadata": {
            "tags": []
          },
          "execution_count": 58
        }
      ]
    },
    {
      "cell_type": "code",
      "metadata": {
        "colab": {
          "base_uri": "https://localhost:8080/"
        },
        "id": "GqRq6T3HqF7-",
        "outputId": "d78c43e7-6cfa-4b49-ccf0-a414d731b68e"
      },
      "source": [
        "#using lambda\n",
        "list(map(lambda num:num*3, seq)) #no need to define entire function first..just use lambda to create func\n"
      ],
      "execution_count": null,
      "outputs": [
        {
          "output_type": "execute_result",
          "data": {
            "text/plain": [
              "[3, 6, 9, 12, 15]"
            ]
          },
          "metadata": {
            "tags": []
          },
          "execution_count": 59
        }
      ]
    },
    {
      "cell_type": "code",
      "metadata": {
        "colab": {
          "base_uri": "https://localhost:8080/"
        },
        "id": "AkY_8cyPq7rP",
        "outputId": "1ad63104-077f-4030-ca13-d4f7f273dc84"
      },
      "source": [
        "#filter function\n",
        "list(filter(lambda num: num%2==0, seq)) # num%2==0 is a boolean condition and the function executes only for the values for which its true"
      ],
      "execution_count": null,
      "outputs": [
        {
          "output_type": "execute_result",
          "data": {
            "text/plain": [
              "[2, 4]"
            ]
          },
          "metadata": {
            "tags": []
          },
          "execution_count": 60
        }
      ]
    },
    {
      "cell_type": "code",
      "metadata": {
        "colab": {
          "base_uri": "https://localhost:8080/"
        },
        "id": "XQb7Nk5Ys5Ju",
        "outputId": "c5ef9502-e0e2-45d5-fd5d-ee1a1a7c464b"
      },
      "source": [
        "7**4"
      ],
      "execution_count": null,
      "outputs": [
        {
          "output_type": "execute_result",
          "data": {
            "text/plain": [
              "2401"
            ]
          },
          "metadata": {
            "tags": []
          },
          "execution_count": 61
        }
      ]
    },
    {
      "cell_type": "code",
      "metadata": {
        "colab": {
          "base_uri": "https://localhost:8080/"
        },
        "id": "uqr-aWW0tQMh",
        "outputId": "07fe512a-f3d5-4bda-ba2d-53f7df2a7367"
      },
      "source": [
        "s='Hi there Sam!'\n",
        "s.split()"
      ],
      "execution_count": null,
      "outputs": [
        {
          "output_type": "execute_result",
          "data": {
            "text/plain": [
              "['Hi', 'there', 'Sam!']"
            ]
          },
          "metadata": {
            "tags": []
          },
          "execution_count": 64
        }
      ]
    }
  ]
}
