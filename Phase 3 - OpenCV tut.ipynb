{
 "cells": [
  {
   "cell_type": "code",
   "execution_count": null,
   "metadata": {},
   "outputs": [],
   "source": [
    "\n",
    "\n",
    "    "
   ]
  },
  {
   "cell_type": "code",
   "execution_count": null,
   "metadata": {},
   "outputs": [],
   "source": [
    "import numpy as np\n",
    "import cv2\n",
    "import pickle\n",
    "\n",
    "face_cascade = cv2.CascadeClassifier('/Users/aadyapipersenia/Documents/SOC/OpenCV-Python-Series-master/src/cascades/data/haarcascade_frontalface_alt2.xml')\n",
    "eye_cascade = cv2.CascadeClassifier('/Users/aadyapipersenia/Documents/SOC/OpenCV-Python-Series-master/src/cascades/data/haarcascade_eye.xml')\n",
    "#smile_cascade = cv2.CascadeClassifier('/Users/aadyapipersenia/Documents/SOC/OpenCV-Python-Series-master/src/cascades/data/haarcascade_smile.xml')\n",
    "recognizer = cv2.face.LBPHFaceRecognizer_create()\n",
    "recognizer.read('trainer.yml')\n",
    "\n",
    "labels = {'person_name':1}\n",
    "with open('labels.pickle','rb') as f:\n",
    "    og_labels = pickle.load(f)\n",
    "    labels = {v:k for k,v in og_labels.items()}\n",
    "\n",
    "cap = cv2.VideoCapture(0)\n",
    "while(True):\n",
    "    #capture frame by frame\n",
    "    ret, frame = cap.read()\n",
    "    gray = cv2.cvtColor(frame,cv2.COLOR_BGR2GRAY)\n",
    "    faces = face_cascade.detectMultiScale(gray,scaleFactor = 1.5,minNeighbors = 5 )\n",
    "    for(x,y,w,h) in faces:\n",
    "        print(x,y,w,h)\n",
    "        roi_gray = gray[y:y+h, x:x+w]\n",
    "        roi_color = frame[y:y+h, x:x+w]\n",
    "        \n",
    "        id_, conf = recognizer.predict(roi_gray)\n",
    "        if conf >= 45  and conf<=85:\n",
    "            print(id_)\n",
    "            print(labels[id_])\n",
    "            font = cv2.FONT_HERSHEY_SIMPLEX\n",
    "            name = labels[id_]\n",
    "            color = (255,255,255)\n",
    "            stroke = 2\n",
    "            cv2.putText(frame, name,(x,y),font,1,color,stroke, cv2.LINE_AA)\n",
    "            \n",
    "            \n",
    "        img_item = 'my-image.png'\n",
    "        cv2.imwrite(img_item,roi_gray )\n",
    "        \n",
    "        color = (255,0,0) #BGR order so blue\n",
    "        stroke = 2\n",
    "        x_end = x+w \n",
    "        y_end = y+h\n",
    "        cv2.rectangle(frame, (x,y),(x_end,y_end),color,stroke)\n",
    "        eyes = eye_cascade.detectMultiScale(roi_gray)\n",
    "        for (ex,ey,ew,eh) in eyes:\n",
    "            cv2.rectangle(roi_color, (ex,ey),(ex+ew,ey+eh),(0,255,0),2)\n",
    "    #Display the resulting frame\n",
    "    cv2.imshow('frame',frame)\n",
    "    if cv2.waitKey(20) & 0xFF == ord('q'):\n",
    "        break\n",
    "    \n",
    "cap.release()\n",
    "cv2.destroyAllWindows()\n",
    "cv2.waitKey(1)"
   ]
  },
  {
   "cell_type": "markdown",
   "metadata": {},
   "source": []
  },
  {
   "cell_type": "code",
   "execution_count": null,
   "metadata": {},
   "outputs": [],
   "source": []
  }
 ],
 "metadata": {
  "kernelspec": {
   "display_name": "Python 3",
   "language": "python",
   "name": "python3"
  },
  "language_info": {
   "codemirror_mode": {
    "name": "ipython",
    "version": 3
   },
   "file_extension": ".py",
   "mimetype": "text/x-python",
   "name": "python",
   "nbconvert_exporter": "python",
   "pygments_lexer": "ipython3",
   "version": "3.8.5"
  }
 },
 "nbformat": 4,
 "nbformat_minor": 4
}
