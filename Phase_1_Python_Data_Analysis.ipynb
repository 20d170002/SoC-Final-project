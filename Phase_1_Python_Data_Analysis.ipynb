{
  "nbformat": 4,
  "nbformat_minor": 0,
  "metadata": {
    "colab": {
      "name": "Phase 1-Python Data Analysis.ipynb",
      "provenance": [],
      "authorship_tag": "ABX9TyMlgLZAPT1JySEkkncNuS5L",
      "include_colab_link": true
    },
    "kernelspec": {
      "name": "python3",
      "display_name": "Python 3"
    },
    "language_info": {
      "name": "python"
    }
  },
  "cells": [
    {
      "cell_type": "markdown",
      "metadata": {
        "id": "view-in-github",
        "colab_type": "text"
      },
      "source": [
        "<a href=\"https://colab.research.google.com/github/20d170002/SoC-Final-project/blob/main/Phase_1_Python_Data_Analysis.ipynb\" target=\"_parent\"><img src=\"https://colab.research.google.com/assets/colab-badge.svg\" alt=\"Open In Colab\"/></a>"
      ]
    },
    {
      "cell_type": "code",
      "metadata": {
        "colab": {
          "base_uri": "https://localhost:8080/"
        },
        "id": "Np9S5m-5sHXh",
        "outputId": "53399506-364c-4d9f-9c96-e1393b39e267"
      },
      "source": [
        "my_list=[1,2,3]\n",
        "import numpy as np\n",
        "arr=np.array(my_list)\n",
        "arr\n",
        "my_mat=[[1,2,3],[4,5,6],[7,8,9]]\n",
        "np.array(my_mat) #notice set of braces\n",
        "print(np.arange(0,10))\n",
        "print(np.arange(0,11,2)) #third arg is step size, all even terms upto 10 will get printed\n"
      ],
      "execution_count": null,
      "outputs": [
        {
          "output_type": "stream",
          "text": [
            "[0 1 2 3 4 5 6 7 8 9]\n",
            "[ 0  2  4  6  8 10]\n"
          ],
          "name": "stdout"
        }
      ]
    },
    {
      "cell_type": "code",
      "metadata": {
        "colab": {
          "base_uri": "https://localhost:8080/"
        },
        "id": "t3Fb2RjRbQ-U",
        "outputId": "8286a40e-ff64-4561-f4b7-0a41538491b3"
      },
      "source": [
        "print(np.zeros(3)), print(np.zeros((2,3))) #2X3 matrix"
      ],
      "execution_count": null,
      "outputs": [
        {
          "output_type": "stream",
          "text": [
            "[0. 0. 0.]\n",
            "[[0. 0. 0.]\n",
            " [0. 0. 0.]]\n"
          ],
          "name": "stdout"
        },
        {
          "output_type": "execute_result",
          "data": {
            "text/plain": [
              "(None, None)"
            ]
          },
          "metadata": {
            "tags": []
          },
          "execution_count": 12
        }
      ]
    },
    {
      "cell_type": "code",
      "metadata": {
        "id": "bLD1HSzzcVRR"
      },
      "source": [
        ""
      ],
      "execution_count": null,
      "outputs": []
    },
    {
      "cell_type": "code",
      "metadata": {
        "colab": {
          "base_uri": "https://localhost:8080/"
        },
        "id": "KdgSvkejcChp",
        "outputId": "0a40dae5-85f8-4e9e-9038-f4ea80ef9df2"
      },
      "source": [
        "import numpy as np\n",
        "np.ones(4)\n",
        "np.ones((3,4)) #rows columns\n"
      ],
      "execution_count": null,
      "outputs": [
        {
          "output_type": "execute_result",
          "data": {
            "text/plain": [
              "array([[1., 1., 1., 1.],\n",
              "       [1., 1., 1., 1.],\n",
              "       [1., 1., 1., 1.]])"
            ]
          },
          "metadata": {
            "tags": []
          },
          "execution_count": 3
        }
      ]
    },
    {
      "cell_type": "code",
      "metadata": {
        "colab": {
          "base_uri": "https://localhost:8080/"
        },
        "id": "ZTclNyBj82rn",
        "outputId": "e29939d3-1a4d-4b97-88e5-efd564ddf2ec"
      },
      "source": [
        "print(np.linspace(0,5,100))\n",
        "np.eye(4) #to make identity matrix 2D matrix\n"
      ],
      "execution_count": null,
      "outputs": [
        {
          "output_type": "stream",
          "text": [
            "[0.         0.05050505 0.1010101  0.15151515 0.2020202  0.25252525\n",
            " 0.3030303  0.35353535 0.4040404  0.45454545 0.50505051 0.55555556\n",
            " 0.60606061 0.65656566 0.70707071 0.75757576 0.80808081 0.85858586\n",
            " 0.90909091 0.95959596 1.01010101 1.06060606 1.11111111 1.16161616\n",
            " 1.21212121 1.26262626 1.31313131 1.36363636 1.41414141 1.46464646\n",
            " 1.51515152 1.56565657 1.61616162 1.66666667 1.71717172 1.76767677\n",
            " 1.81818182 1.86868687 1.91919192 1.96969697 2.02020202 2.07070707\n",
            " 2.12121212 2.17171717 2.22222222 2.27272727 2.32323232 2.37373737\n",
            " 2.42424242 2.47474747 2.52525253 2.57575758 2.62626263 2.67676768\n",
            " 2.72727273 2.77777778 2.82828283 2.87878788 2.92929293 2.97979798\n",
            " 3.03030303 3.08080808 3.13131313 3.18181818 3.23232323 3.28282828\n",
            " 3.33333333 3.38383838 3.43434343 3.48484848 3.53535354 3.58585859\n",
            " 3.63636364 3.68686869 3.73737374 3.78787879 3.83838384 3.88888889\n",
            " 3.93939394 3.98989899 4.04040404 4.09090909 4.14141414 4.19191919\n",
            " 4.24242424 4.29292929 4.34343434 4.39393939 4.44444444 4.49494949\n",
            " 4.54545455 4.5959596  4.64646465 4.6969697  4.74747475 4.7979798\n",
            " 4.84848485 4.8989899  4.94949495 5.        ]\n"
          ],
          "name": "stdout"
        },
        {
          "output_type": "execute_result",
          "data": {
            "text/plain": [
              "array([[1., 0., 0., 0.],\n",
              "       [0., 1., 0., 0.],\n",
              "       [0., 0., 1., 0.],\n",
              "       [0., 0., 0., 1.]])"
            ]
          },
          "metadata": {
            "tags": []
          },
          "execution_count": 97
        }
      ]
    },
    {
      "cell_type": "code",
      "metadata": {
        "colab": {
          "base_uri": "https://localhost:8080/"
        },
        "id": "bKGrAiAL9oqV",
        "outputId": "57ecd809-dd45-4916-d5dd-f4f34f8084e7"
      },
      "source": [
        "np.random.rand(5) #picks random no.s in 0 to 1"
      ],
      "execution_count": null,
      "outputs": [
        {
          "output_type": "execute_result",
          "data": {
            "text/plain": [
              "array([0.76262262, 0.49184615, 0.68359416, 0.27668191, 0.55514257])"
            ]
          },
          "metadata": {
            "tags": []
          },
          "execution_count": 8
        }
      ]
    },
    {
      "cell_type": "code",
      "metadata": {
        "colab": {
          "base_uri": "https://localhost:8080/"
        },
        "id": "0OcUVMiD98-G",
        "outputId": "c282f655-40df-4c64-95e3-d71e93a62c20"
      },
      "source": [
        "np.random.rand(5,5) #to make 2d array pass 2 arg (0,1)\n",
        "np.random.randn(4,4)\n",
        "\n"
      ],
      "execution_count": null,
      "outputs": [
        {
          "output_type": "execute_result",
          "data": {
            "text/plain": [
              "array([[ 0.50444082, -1.19859682, -0.24571477, -0.98277404],\n",
              "       [-0.15482936,  0.86450726, -0.64812405, -0.09698145],\n",
              "       [-0.12345629,  0.58868069,  0.67614528, -0.12414377],\n",
              "       [-1.70298403,  0.70596784, -0.22894861,  0.59225616]])"
            ]
          },
          "metadata": {
            "tags": []
          },
          "execution_count": 11
        }
      ]
    },
    {
      "cell_type": "code",
      "metadata": {
        "id": "DjmFx28o-7jJ"
      },
      "source": [
        "np.random.randint(1,100) #selects randomly an integer from given range lowest inclusive highest exclusive\n",
        "np.random.randint(1,100,10) # 3rd arg= no. of integers we want\n",
        "\n"
      ],
      "execution_count": null,
      "outputs": []
    },
    {
      "cell_type": "code",
      "metadata": {
        "colab": {
          "base_uri": "https://localhost:8080/"
        },
        "id": "7bLGoViA_f89",
        "outputId": "ea7cc923-52ee-43ca-afd2-6fc11c893add"
      },
      "source": [
        "arr = np.arange(25)\n",
        "arr\n"
      ],
      "execution_count": null,
      "outputs": [
        {
          "output_type": "execute_result",
          "data": {
            "text/plain": [
              "array([ 0,  1,  2,  3,  4,  5,  6,  7,  8,  9, 10, 11, 12, 13, 14, 15, 16,\n",
              "       17, 18, 19, 20, 21, 22, 23, 24])"
            ]
          },
          "metadata": {
            "tags": []
          },
          "execution_count": 23
        }
      ]
    },
    {
      "cell_type": "code",
      "metadata": {
        "colab": {
          "base_uri": "https://localhost:8080/"
        },
        "id": "pj3Il3sZAAcn",
        "outputId": "7c648f83-243a-4db5-adfb-9f77139a3704"
      },
      "source": [
        "ranarr = np.random.randint(0,50,10)\n",
        "ranarr"
      ],
      "execution_count": null,
      "outputs": [
        {
          "output_type": "execute_result",
          "data": {
            "text/plain": [
              "array([48, 20,  0, 33, 20, 38, 39, 19, 30,  2])"
            ]
          },
          "metadata": {
            "tags": []
          },
          "execution_count": 25
        }
      ]
    },
    {
      "cell_type": "code",
      "metadata": {
        "colab": {
          "base_uri": "https://localhost:8080/"
        },
        "id": "O1TVh7shAkyP",
        "outputId": "2cd31b2c-a0e0-4521-f72f-275148771763"
      },
      "source": [
        "arr.reshape(5,5) #forms 5x5 array. flags an error if less/more elements than required for matrrix\n",
        "#arr.reshape(4,4)=error\n",
        "ranarr.max()\n",
        "ranarr.min()\n",
        "ranarr.argmax()\n",
        "ranarr.argmin()\n"
      ],
      "execution_count": null,
      "outputs": [
        {
          "output_type": "execute_result",
          "data": {
            "text/plain": [
              "2"
            ]
          },
          "metadata": {
            "tags": []
          },
          "execution_count": 32
        }
      ]
    },
    {
      "cell_type": "code",
      "metadata": {
        "colab": {
          "base_uri": "https://localhost:8080/"
        },
        "id": "iBtmDuYiCwFv",
        "outputId": "db5f70fe-1a36-4377-de8f-67118d7f6cbc"
      },
      "source": [
        "arr.shape #o/p means 1d array"
      ],
      "execution_count": null,
      "outputs": [
        {
          "output_type": "execute_result",
          "data": {
            "text/plain": [
              "(25,)"
            ]
          },
          "metadata": {
            "tags": []
          },
          "execution_count": 34
        }
      ]
    },
    {
      "cell_type": "code",
      "metadata": {
        "colab": {
          "base_uri": "https://localhost:8080/"
        },
        "id": "znQcJh0oC9zz",
        "outputId": "47fe8229-aa4a-48d9-f175-57e6bc36429e"
      },
      "source": [
        "arr=arr.reshape(5,5)\n",
        "arr\n",
        "arr.shape\n",
        "arr.dtype"
      ],
      "execution_count": null,
      "outputs": [
        {
          "output_type": "execute_result",
          "data": {
            "text/plain": [
              "dtype('int64')"
            ]
          },
          "metadata": {
            "tags": []
          },
          "execution_count": 38
        }
      ]
    },
    {
      "cell_type": "code",
      "metadata": {
        "colab": {
          "base_uri": "https://localhost:8080/"
        },
        "id": "DxzJaEOeDwmN",
        "outputId": "571f1f9a-7030-4bcb-b48f-352b6c4197da"
      },
      "source": [
        "from numpy.random import randint\n",
        "randint(2,6)\n"
      ],
      "execution_count": null,
      "outputs": [
        {
          "output_type": "execute_result",
          "data": {
            "text/plain": [
              "3"
            ]
          },
          "metadata": {
            "tags": []
          },
          "execution_count": 39
        }
      ]
    },
    {
      "cell_type": "code",
      "metadata": {
        "colab": {
          "base_uri": "https://localhost:8080/"
        },
        "id": "FBoJhgA6EU-b",
        "outputId": "23a05bdf-ee95-480f-a396-4c2c08a61474"
      },
      "source": [
        "import numpy as np\n",
        "arr = np.arange(0,11)\n",
        "arr\n",
        "arr[8] #return the value at that index\n",
        "arr[1:5] #returns values from index 1 to 4. \n",
        "arr[0:5]\n",
        "arr[:6]\n",
        "arr[5:] #starts from index 5 upto end\n",
        "arr[0:5]=100\n",
        "arr\n",
        "arr=np.arange(0,11)\n",
        "arr\n"
      ],
      "execution_count": null,
      "outputs": [
        {
          "output_type": "execute_result",
          "data": {
            "text/plain": [
              "array([ 0,  1,  2,  3,  4,  5,  6,  7,  8,  9, 10])"
            ]
          },
          "metadata": {
            "tags": []
          },
          "execution_count": 48
        }
      ]
    },
    {
      "cell_type": "code",
      "metadata": {
        "colab": {
          "base_uri": "https://localhost:8080/"
        },
        "id": "7cGmu11OGPy4",
        "outputId": "8052c988-27e5-4e4c-fb87-48a6d9ffcaf3"
      },
      "source": [
        "slice_of_arr= arr[0:6]\n",
        "\n",
        "slice_of_arr\n",
        "slice_of_arr [:]= 99  #gets all the elements\n",
        "slice_of_arr\n",
        "arr"
      ],
      "execution_count": null,
      "outputs": [
        {
          "output_type": "execute_result",
          "data": {
            "text/plain": [
              "array([99, 99, 99, 99, 99, 99,  6,  7,  8,  9, 10])"
            ]
          },
          "metadata": {
            "tags": []
          },
          "execution_count": 53
        }
      ]
    },
    {
      "cell_type": "code",
      "metadata": {
        "colab": {
          "base_uri": "https://localhost:8080/"
        },
        "id": "9Tgx7D9CHCtw",
        "outputId": "acf53e34-ecff-445e-b4c8-b55ba88b0e36"
      },
      "source": [
        "arr_copy= arr.copy()\n",
        "arr_copy"
      ],
      "execution_count": null,
      "outputs": [
        {
          "output_type": "execute_result",
          "data": {
            "text/plain": [
              "array([99, 99, 99, 99, 99, 99,  6,  7,  8,  9, 10])"
            ]
          },
          "metadata": {
            "tags": []
          },
          "execution_count": 55
        }
      ]
    },
    {
      "cell_type": "code",
      "metadata": {
        "colab": {
          "base_uri": "https://localhost:8080/"
        },
        "id": "ZdDyj0RhHTwL",
        "outputId": "9f2038a6-6051-4fcc-bfb3-df35149a2ae1"
      },
      "source": [
        "#now change values of elements in arr_copy\n",
        "arr_copy[:] = 100\n",
        "arr_copy\n"
      ],
      "execution_count": null,
      "outputs": [
        {
          "output_type": "execute_result",
          "data": {
            "text/plain": [
              "array([100, 100, 100, 100, 100, 100, 100, 100, 100, 100, 100])"
            ]
          },
          "metadata": {
            "tags": []
          },
          "execution_count": 56
        }
      ]
    },
    {
      "cell_type": "code",
      "metadata": {
        "colab": {
          "base_uri": "https://localhost:8080/"
        },
        "id": "Doff-h2nHe1M",
        "outputId": "4d852ad4-6454-4ff7-80fd-18291677901e"
      },
      "source": [
        "#check arr #arr_copy is the copy of arr, the changes in copy do not reflect in arr. while changes in slice does\n",
        "arr"
      ],
      "execution_count": null,
      "outputs": [
        {
          "output_type": "execute_result",
          "data": {
            "text/plain": [
              "array([99, 99, 99, 99, 99, 99,  6,  7,  8,  9, 10])"
            ]
          },
          "metadata": {
            "tags": []
          },
          "execution_count": 57
        }
      ]
    },
    {
      "cell_type": "code",
      "metadata": {
        "colab": {
          "base_uri": "https://localhost:8080/"
        },
        "id": "SuKOeAdRH2wD",
        "outputId": "77236267-9f23-4d00-c9c6-9ba95be02064"
      },
      "source": [
        "arr_2d = np.array([[5,10,15],[20,25,30],[35,40,45]]) #2d array means 2 sq brackets\n",
        "print(arr_2d)\n",
        "arr_2d[2][1]\n",
        "arr_2d[2,1] #they both are same\n",
        "\n"
      ],
      "execution_count": null,
      "outputs": [
        {
          "output_type": "stream",
          "text": [
            "[[ 5 10 15]\n",
            " [20 25 30]\n",
            " [35 40 45]]\n"
          ],
          "name": "stdout"
        },
        {
          "output_type": "execute_result",
          "data": {
            "text/plain": [
              "40"
            ]
          },
          "metadata": {
            "tags": []
          },
          "execution_count": 66
        }
      ]
    },
    {
      "cell_type": "code",
      "metadata": {
        "colab": {
          "base_uri": "https://localhost:8080/"
        },
        "id": "jup7zCM2JdKy",
        "outputId": "9c42c0bf-1f10-4d38-cd4c-b5263d68274d"
      },
      "source": [
        "arr_2d[:2, 1:] #the top right corner matrix"
      ],
      "execution_count": null,
      "outputs": [
        {
          "output_type": "execute_result",
          "data": {
            "text/plain": [
              "array([[10, 15],\n",
              "       [25, 30]])"
            ]
          },
          "metadata": {
            "tags": []
          },
          "execution_count": 67
        }
      ]
    },
    {
      "cell_type": "code",
      "metadata": {
        "colab": {
          "base_uri": "https://localhost:8080/"
        },
        "id": "QvBLBnaAJ71T",
        "outputId": "804f009c-91f1-4d09-f415-72c362aefdef"
      },
      "source": [
        "arr_2d[:2]\n"
      ],
      "execution_count": null,
      "outputs": [
        {
          "output_type": "execute_result",
          "data": {
            "text/plain": [
              "array([[ 5, 10, 15],\n",
              "       [20, 25, 30]])"
            ]
          },
          "metadata": {
            "tags": []
          },
          "execution_count": 68
        }
      ]
    },
    {
      "cell_type": "code",
      "metadata": {
        "colab": {
          "base_uri": "https://localhost:8080/"
        },
        "id": "CWGKEoQESHMz",
        "outputId": "a85b9113-2ca2-4b10-ce9d-801ae57451d9"
      },
      "source": [
        "arr = np.arange(1,11)\n",
        "arr\n",
        "bool_arr = arr > 5\n",
        "bool_arr\n"
      ],
      "execution_count": null,
      "outputs": [
        {
          "output_type": "execute_result",
          "data": {
            "text/plain": [
              "array([False, False, False, False, False,  True,  True,  True,  True,\n",
              "        True])"
            ]
          },
          "metadata": {
            "tags": []
          },
          "execution_count": 71
        }
      ]
    },
    {
      "cell_type": "code",
      "metadata": {
        "colab": {
          "base_uri": "https://localhost:8080/"
        },
        "id": "WXXr-VhrSuYj",
        "outputId": "1ab42257-07eb-405c-d576-cdabc885e2dd"
      },
      "source": [
        "arr[bool_arr] #returm array with elements which evaluate to true"
      ],
      "execution_count": null,
      "outputs": [
        {
          "output_type": "execute_result",
          "data": {
            "text/plain": [
              "array([ 6,  7,  8,  9, 10])"
            ]
          },
          "metadata": {
            "tags": []
          },
          "execution_count": 72
        }
      ]
    },
    {
      "cell_type": "code",
      "metadata": {
        "id": "xwl3AVL8TIUn"
      },
      "source": [
        ""
      ],
      "execution_count": null,
      "outputs": []
    },
    {
      "cell_type": "code",
      "metadata": {
        "colab": {
          "base_uri": "https://localhost:8080/"
        },
        "id": "5IAWXiGLTB6R",
        "outputId": "cb81feb3-20b2-4127-ca45-698a1e2a008e"
      },
      "source": [
        "arr[arr>5]\n"
      ],
      "execution_count": null,
      "outputs": [
        {
          "output_type": "execute_result",
          "data": {
            "text/plain": [
              "array([ 6,  7,  8,  9, 10])"
            ]
          },
          "metadata": {
            "tags": []
          },
          "execution_count": 73
        }
      ]
    },
    {
      "cell_type": "code",
      "metadata": {
        "id": "EJiPK6qCTJnc"
      },
      "source": [
        ""
      ],
      "execution_count": null,
      "outputs": []
    },
    {
      "cell_type": "code",
      "metadata": {
        "colab": {
          "base_uri": "https://localhost:8080/"
        },
        "id": "O1goCbbbTKG0",
        "outputId": "f76a958e-9520-4952-bad2-1ae0018b547d"
      },
      "source": [
        "arr[arr<3]"
      ],
      "execution_count": null,
      "outputs": [
        {
          "output_type": "execute_result",
          "data": {
            "text/plain": [
              "array([1, 2])"
            ]
          },
          "metadata": {
            "tags": []
          },
          "execution_count": 74
        }
      ]
    },
    {
      "cell_type": "code",
      "metadata": {
        "colab": {
          "base_uri": "https://localhost:8080/"
        },
        "id": "NMLX_L8FTVX7",
        "outputId": "3cc12977-2dec-49b7-c5ca-8182d04d736b"
      },
      "source": [
        "arr_2d=np.arange(50).reshape(5,10)\n",
        "arr_2d"
      ],
      "execution_count": null,
      "outputs": [
        {
          "output_type": "execute_result",
          "data": {
            "text/plain": [
              "array([[ 0,  1,  2,  3,  4,  5,  6,  7,  8,  9],\n",
              "       [10, 11, 12, 13, 14, 15, 16, 17, 18, 19],\n",
              "       [20, 21, 22, 23, 24, 25, 26, 27, 28, 29],\n",
              "       [30, 31, 32, 33, 34, 35, 36, 37, 38, 39],\n",
              "       [40, 41, 42, 43, 44, 45, 46, 47, 48, 49]])"
            ]
          },
          "metadata": {
            "tags": []
          },
          "execution_count": 75
        }
      ]
    },
    {
      "cell_type": "code",
      "metadata": {
        "colab": {
          "base_uri": "https://localhost:8080/"
        },
        "id": "tUgQva-k9R81",
        "outputId": "706eff1f-d942-407f-ac86-1bdd358022e4"
      },
      "source": [
        "arr_2d[1:3,3:5]"
      ],
      "execution_count": null,
      "outputs": [
        {
          "output_type": "execute_result",
          "data": {
            "text/plain": [
              "array([[13, 14],\n",
              "       [23, 24]])"
            ]
          },
          "metadata": {
            "tags": []
          },
          "execution_count": 77
        }
      ]
    },
    {
      "cell_type": "code",
      "metadata": {
        "colab": {
          "base_uri": "https://localhost:8080/"
        },
        "id": "irOoQQ9zUXF_",
        "outputId": "ba518543-5534-4877-e1a7-7277fa30e876"
      },
      "source": [
        "arr = np.arange(0,11)\n",
        "arr"
      ],
      "execution_count": null,
      "outputs": [
        {
          "output_type": "execute_result",
          "data": {
            "text/plain": [
              "array([ 0,  1,  2,  3,  4,  5,  6,  7,  8,  9, 10])"
            ]
          },
          "metadata": {
            "tags": []
          },
          "execution_count": 79
        }
      ]
    },
    {
      "cell_type": "code",
      "metadata": {
        "colab": {
          "base_uri": "https://localhost:8080/"
        },
        "id": "Ob-P31GRUrNV",
        "outputId": "0618426d-4108-4690-e967-0d4f6e87fe6f"
      },
      "source": [
        "arr + arr"
      ],
      "execution_count": null,
      "outputs": [
        {
          "output_type": "execute_result",
          "data": {
            "text/plain": [
              "array([ 0,  2,  4,  6,  8, 10, 12, 14, 16, 18, 20])"
            ]
          },
          "metadata": {
            "tags": []
          },
          "execution_count": 80
        }
      ]
    },
    {
      "cell_type": "code",
      "metadata": {
        "colab": {
          "base_uri": "https://localhost:8080/"
        },
        "id": "v7beNUGvUvjI",
        "outputId": "7a449763-d379-4243-a975-b9224eef9ad9"
      },
      "source": [
        "arr - arr"
      ],
      "execution_count": null,
      "outputs": [
        {
          "output_type": "execute_result",
          "data": {
            "text/plain": [
              "array([0, 0, 0, 0, 0, 0, 0, 0, 0, 0, 0])"
            ]
          },
          "metadata": {
            "tags": []
          },
          "execution_count": 81
        }
      ]
    },
    {
      "cell_type": "code",
      "metadata": {
        "colab": {
          "base_uri": "https://localhost:8080/"
        },
        "id": "6k2v-a83Uyq6",
        "outputId": "d61e6617-9ab7-4d0c-e180-e1d7218843db"
      },
      "source": [
        "arr * arr"
      ],
      "execution_count": null,
      "outputs": [
        {
          "output_type": "execute_result",
          "data": {
            "text/plain": [
              "array([  0,   1,   4,   9,  16,  25,  36,  49,  64,  81, 100])"
            ]
          },
          "metadata": {
            "tags": []
          },
          "execution_count": 82
        }
      ]
    },
    {
      "cell_type": "code",
      "metadata": {
        "colab": {
          "base_uri": "https://localhost:8080/"
        },
        "id": "Xl142d81U0qS",
        "outputId": "2ca51ab5-1c19-4093-fb6e-d08a0b327e20"
      },
      "source": [
        "arr\n",
        "arr + 100"
      ],
      "execution_count": null,
      "outputs": [
        {
          "output_type": "execute_result",
          "data": {
            "text/plain": [
              "array([100, 101, 102, 103, 104, 105, 106, 107, 108, 109, 110])"
            ]
          },
          "metadata": {
            "tags": []
          },
          "execution_count": 84
        }
      ]
    },
    {
      "cell_type": "code",
      "metadata": {
        "colab": {
          "base_uri": "https://localhost:8080/"
        },
        "id": "YUNtNk3-U_s_",
        "outputId": "c27be5ae-8ca4-47c9-f1b7-77ce63fcacdf"
      },
      "source": [
        "arr*100"
      ],
      "execution_count": null,
      "outputs": [
        {
          "output_type": "execute_result",
          "data": {
            "text/plain": [
              "array([   0,  100,  200,  300,  400,  500,  600,  700,  800,  900, 1000])"
            ]
          },
          "metadata": {
            "tags": []
          },
          "execution_count": 85
        }
      ]
    },
    {
      "cell_type": "code",
      "metadata": {
        "colab": {
          "base_uri": "https://localhost:8080/"
        },
        "id": "UAK68w9cVBXT",
        "outputId": "d9162e9e-57be-4a22-bb6e-5776f0828b6e"
      },
      "source": [
        "arr - 100"
      ],
      "execution_count": null,
      "outputs": [
        {
          "output_type": "execute_result",
          "data": {
            "text/plain": [
              "array([-100,  -99,  -98,  -97,  -96,  -95,  -94,  -93,  -92,  -91,  -90])"
            ]
          },
          "metadata": {
            "tags": []
          },
          "execution_count": 86
        }
      ]
    },
    {
      "cell_type": "code",
      "metadata": {
        "colab": {
          "base_uri": "https://localhost:8080/"
        },
        "id": "Z7seqUZEVDZF",
        "outputId": "9956b58c-bcb8-4995-deff-e31e1b0efc99"
      },
      "source": [
        "arr/100"
      ],
      "execution_count": null,
      "outputs": [
        {
          "output_type": "execute_result",
          "data": {
            "text/plain": [
              "array([0.  , 0.01, 0.02, 0.03, 0.04, 0.05, 0.06, 0.07, 0.08, 0.09, 0.1 ])"
            ]
          },
          "metadata": {
            "tags": []
          },
          "execution_count": 87
        }
      ]
    },
    {
      "cell_type": "code",
      "metadata": {
        "colab": {
          "base_uri": "https://localhost:8080/"
        },
        "id": "gGqeogLeVThN",
        "outputId": "e16835fd-c3e3-4dab-d670-fc427830a789"
      },
      "source": [
        "arr/arr #look 0/0 gives nan not a number"
      ],
      "execution_count": null,
      "outputs": [
        {
          "output_type": "stream",
          "text": [
            "/usr/local/lib/python3.7/dist-packages/ipykernel_launcher.py:1: RuntimeWarning: invalid value encountered in true_divide\n",
            "  \"\"\"Entry point for launching an IPython kernel.\n"
          ],
          "name": "stderr"
        },
        {
          "output_type": "execute_result",
          "data": {
            "text/plain": [
              "array([nan,  1.,  1.,  1.,  1.,  1.,  1.,  1.,  1.,  1.,  1.])"
            ]
          },
          "metadata": {
            "tags": []
          },
          "execution_count": 88
        }
      ]
    },
    {
      "cell_type": "code",
      "metadata": {
        "colab": {
          "base_uri": "https://localhost:8080/"
        },
        "id": "e6zu5t62VjPB",
        "outputId": "f2e3a19a-181c-448a-e65d-f64254c399a8"
      },
      "source": [
        "1/arr"
      ],
      "execution_count": null,
      "outputs": [
        {
          "output_type": "stream",
          "text": [
            "/usr/local/lib/python3.7/dist-packages/ipykernel_launcher.py:1: RuntimeWarning: divide by zero encountered in true_divide\n",
            "  \"\"\"Entry point for launching an IPython kernel.\n"
          ],
          "name": "stderr"
        },
        {
          "output_type": "execute_result",
          "data": {
            "text/plain": [
              "array([       inf, 1.        , 0.5       , 0.33333333, 0.25      ,\n",
              "       0.2       , 0.16666667, 0.14285714, 0.125     , 0.11111111,\n",
              "       0.1       ])"
            ]
          },
          "metadata": {
            "tags": []
          },
          "execution_count": 89
        }
      ]
    },
    {
      "cell_type": "code",
      "metadata": {
        "colab": {
          "base_uri": "https://localhost:8080/"
        },
        "id": "Xj2Opj6xVrRd",
        "outputId": "5e112962-d162-434b-858b-5d4f82878cc8"
      },
      "source": [
        "arr ** 2"
      ],
      "execution_count": null,
      "outputs": [
        {
          "output_type": "execute_result",
          "data": {
            "text/plain": [
              "array([  0,   1,   4,   9,  16,  25,  36,  49,  64,  81, 100])"
            ]
          },
          "metadata": {
            "tags": []
          },
          "execution_count": 90
        }
      ]
    },
    {
      "cell_type": "code",
      "metadata": {
        "colab": {
          "base_uri": "https://localhost:8080/"
        },
        "id": "1JMS0xg-VxeL",
        "outputId": "fdab99b3-4444-4c21-90ec-6c8e397cef58"
      },
      "source": [
        "np.sqrt(arr)"
      ],
      "execution_count": null,
      "outputs": [
        {
          "output_type": "execute_result",
          "data": {
            "text/plain": [
              "array([0.        , 1.        , 1.41421356, 1.73205081, 2.        ,\n",
              "       2.23606798, 2.44948974, 2.64575131, 2.82842712, 3.        ,\n",
              "       3.16227766])"
            ]
          },
          "metadata": {
            "tags": []
          },
          "execution_count": 91
        }
      ]
    },
    {
      "cell_type": "code",
      "metadata": {
        "colab": {
          "base_uri": "https://localhost:8080/"
        },
        "id": "RLlVtXc-V3Py",
        "outputId": "9071f562-def2-47fe-9070-349a521e6fad"
      },
      "source": [
        "np.exp(arr)"
      ],
      "execution_count": null,
      "outputs": [
        {
          "output_type": "execute_result",
          "data": {
            "text/plain": [
              "array([1.00000000e+00, 2.71828183e+00, 7.38905610e+00, 2.00855369e+01,\n",
              "       5.45981500e+01, 1.48413159e+02, 4.03428793e+02, 1.09663316e+03,\n",
              "       2.98095799e+03, 8.10308393e+03, 2.20264658e+04])"
            ]
          },
          "metadata": {
            "tags": []
          },
          "execution_count": 92
        }
      ]
    },
    {
      "cell_type": "code",
      "metadata": {
        "colab": {
          "base_uri": "https://localhost:8080/"
        },
        "id": "pSeJ9aVzV7Se",
        "outputId": "39836911-9952-4dc0-948a-3ed104de7296"
      },
      "source": [
        "np.max(arr)\n"
      ],
      "execution_count": null,
      "outputs": [
        {
          "output_type": "execute_result",
          "data": {
            "text/plain": [
              "10"
            ]
          },
          "metadata": {
            "tags": []
          },
          "execution_count": 93
        }
      ]
    },
    {
      "cell_type": "code",
      "metadata": {
        "colab": {
          "base_uri": "https://localhost:8080/"
        },
        "id": "BN9t8LBtV9jb",
        "outputId": "2f017007-cb67-4053-c3a9-ffa2f9691188"
      },
      "source": [
        "np.sin(arr)"
      ],
      "execution_count": null,
      "outputs": [
        {
          "output_type": "execute_result",
          "data": {
            "text/plain": [
              "array([ 0.        ,  0.84147098,  0.90929743,  0.14112001, -0.7568025 ,\n",
              "       -0.95892427, -0.2794155 ,  0.6569866 ,  0.98935825,  0.41211849,\n",
              "       -0.54402111])"
            ]
          },
          "metadata": {
            "tags": []
          },
          "execution_count": 94
        }
      ]
    },
    {
      "cell_type": "code",
      "metadata": {
        "colab": {
          "base_uri": "https://localhost:8080/"
        },
        "id": "gPWtVhepWESL",
        "outputId": "88779c2c-3595-4f71-c09f-75252a8070fc"
      },
      "source": [
        "np.log(arr)"
      ],
      "execution_count": null,
      "outputs": [
        {
          "output_type": "stream",
          "text": [
            "/usr/local/lib/python3.7/dist-packages/ipykernel_launcher.py:1: RuntimeWarning: divide by zero encountered in log\n",
            "  \"\"\"Entry point for launching an IPython kernel.\n"
          ],
          "name": "stderr"
        },
        {
          "output_type": "execute_result",
          "data": {
            "text/plain": [
              "array([      -inf, 0.        , 0.69314718, 1.09861229, 1.38629436,\n",
              "       1.60943791, 1.79175947, 1.94591015, 2.07944154, 2.19722458,\n",
              "       2.30258509])"
            ]
          },
          "metadata": {
            "tags": []
          },
          "execution_count": 95
        }
      ]
    },
    {
      "cell_type": "code",
      "metadata": {
        "id": "5G4GeqjrWNGA"
      },
      "source": [
        ""
      ],
      "execution_count": null,
      "outputs": []
    }
  ]
}