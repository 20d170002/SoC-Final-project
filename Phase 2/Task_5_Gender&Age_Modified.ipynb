{
  "nbformat": 4,
  "nbformat_minor": 0,
  "metadata": {
    "colab": {
      "name": "Task 5 Gender&Age Modified.ipynb",
      "provenance": [],
      "authorship_tag": "ABX9TyMbkeHqMAtlaL7sOXnyjkEl",
      "include_colab_link": true
    },
    "kernelspec": {
      "name": "python3",
      "display_name": "Python 3"
    },
    "language_info": {
      "name": "python"
    }
  },
  "cells": [
    {
      "cell_type": "markdown",
      "metadata": {
        "id": "view-in-github",
        "colab_type": "text"
      },
      "source": [
        "<a href=\"https://colab.research.google.com/github/20d170002/SoC-Final-project/blob/main/Task_5_Gender%26Age_Modified.ipynb\" target=\"_parent\"><img src=\"https://colab.research.google.com/assets/colab-badge.svg\" alt=\"Open In Colab\"/></a>"
      ]
    },
    {
      "cell_type": "code",
      "metadata": {
        "colab": {
          "base_uri": "https://localhost:8080/"
        },
        "id": "FVz03X8UWo0B",
        "outputId": "372c51f5-c163-4ba6-ca15-9b48c3c05506"
      },
      "source": [
        "!pip install pafy\n",
        "!pip install youtube-dl "
      ],
      "execution_count": null,
      "outputs": [
        {
          "output_type": "stream",
          "text": [
            "Collecting pafy\n",
            "  Downloading https://files.pythonhosted.org/packages/74/69/829919eeadff695338f98fa12bb99e45490761a2010c8d688d88b6df194a/pafy-0.5.5-py2.py3-none-any.whl\n",
            "Installing collected packages: pafy\n",
            "Successfully installed pafy-0.5.5\n",
            "Collecting youtube-dl\n",
            "\u001b[?25l  Downloading https://files.pythonhosted.org/packages/32/47/a4442e3bd6f13013c0c38a5b16576e9d69da14d09b1ef00a9c0915e75b3e/youtube_dl-2021.5.16-py2.py3-none-any.whl (1.9MB)\n",
            "\u001b[K     |████████████████████████████████| 1.9MB 2.9MB/s \n",
            "\u001b[?25hInstalling collected packages: youtube-dl\n",
            "Successfully installed youtube-dl-2021.5.16\n"
          ],
          "name": "stdout"
        }
      ]
    },
    {
      "cell_type": "code",
      "metadata": {
        "colab": {
          "base_uri": "https://localhost:8080/"
        },
        "id": "sKeZRXSwW7pQ",
        "outputId": "641e0d7e-cdd6-4fe8-91b1-d9ca39635361"
      },
      "source": [
        "from google.colab import drive\n",
        "drive.mount('/content/drive') "
      ],
      "execution_count": null,
      "outputs": [
        {
          "output_type": "stream",
          "text": [
            "Mounted at /content/drive\n"
          ],
          "name": "stdout"
        }
      ]
    },
    {
      "cell_type": "code",
      "metadata": {
        "id": "brKhHIm4XW_P"
      },
      "source": [
        " import os\n",
        " path = '/content/drive/MyDrive/SoC2k21/My_Pretrained'\n",
        " output_dir = '/content/drive/MyDrive/SoC2k21/output_video.avi'\n"
      ],
      "execution_count": null,
      "outputs": []
    },
    {
      "cell_type": "code",
      "metadata": {
        "colab": {
          "base_uri": "https://localhost:8080/"
        },
        "id": "1olHE7zVXcZY",
        "outputId": "efcd2684-f9e7-400a-fe31-8dc7917ca11c"
      },
      "source": [
        "# Importing OpenCV, pafy for youtube video processing and time library\n",
        "import cv2\n",
        "import numpy as np\n",
        "import pafy\n",
        "import time\n",
        "\n",
        "# cv2.imshow doesn't work in colab hence cv2_imshow(image) would have to be done\n",
        "from google.colab.patches import cv2_imshow\n",
        "\n",
        "# Would run the video processing code for n seconds only\n",
        "n = 10\n",
        "\n",
        "# Setting up output video writer\n",
        "fourcc = cv2.VideoWriter_fourcc(*'XVID')\n",
        "w, h = 1280,720\n",
        "fourcc = cv2.VideoWriter_fourcc('m', 'p', '4', 'v')\n",
        "output_fps = 30\n",
        "output_movie = cv2.VideoWriter(output_dir, fourcc, output_fps, (w, h))\n",
        "\n",
        "#url of the video to predict Age and gender\n",
        "url = 'https://www.youtube.com/watch?v=iH1ZJVqJO3Y'\n",
        "vPafy = pafy.new(url)\n",
        "play = vPafy.getbest(preftype=\"mp4\")\n",
        "\n",
        "# Capturing youtube video\n",
        "cap = cv2.VideoCapture(play.url)\n",
        "\n",
        "cap.set(3, 480) #set width of the frame\n",
        "cap.set(4, 640) #set height of the frame\n",
        "\n",
        "# Pretrained model mean values\n",
        "MODEL_MEAN_VALUES = (78.4263377603, 87.7689143744, 114.895847746)\n",
        "\n",
        "# Setting the same age and gender ranges as that of pre trianed model\n",
        "age_list = ['(0, 2)', '(4, 6)', '(8, 12)', '(15, 20)', '(25, 32)', '(38, 43)', '(48, 53)', '(60, 100)']\n",
        "\n",
        "gender_list = ['Male', 'Female']\n",
        "\n",
        "# Functions to load models\n",
        "def load_caffe_models():\n",
        " \n",
        "  age_net = cv2.dnn.readNetFromCaffe(os.path.join(path,'deploy_age.prototxt'), os.path.join(path,'age_net.caffemodel'))\n",
        "\n",
        "  gender_net = cv2.dnn.readNetFromCaffe(os.path.join(path,'deploy_gender.prototxt'), os.path.join(path,'gender_net.caffemodel'))\n",
        "\n",
        "  return (age_net, gender_net)\n",
        "\n",
        "# Function to detect age and gender\n",
        "\n",
        "def video_detector(age_net, gender_net):\n",
        "  # Selecting cv2 font to write on the video\n",
        "  font = cv2.FONT_HERSHEY_SIMPLEX\n",
        "  framecount = 0\n",
        "\n",
        "  # Ending the loop when frames in output video are n*FPS (for e.g. 10*30=300)\n",
        "  while framecount < n*output_fps:\n",
        "\n",
        "      ret, image = cap.read()\n",
        "      framecount = framecount+1\n",
        "\n",
        "      face_cascade = cv2.CascadeClassifier(cv2.data.haarcascades + 'haarcascade_frontalface_alt.xml')\n",
        "      eye_cascade = cv2.CascadeClassifier(cv2.data.haarcascades + 'haarcascade_eye.xml')\n",
        "    \n",
        "      gray = cv2.cvtColor(image, cv2.COLOR_BGR2GRAY)\n",
        "\n",
        "      faces = face_cascade.detectMultiScale(gray, 1.1, 5)\n",
        "\n",
        "      for (x, y, w, h )in faces:\n",
        "        cv2.rectangle(image, (x, y), (x+w, y+h), (255, 255, 0), 2)\n",
        "\n",
        "      #Get Face \n",
        "        face_img = image[y:y+h, h:h+w].copy()\n",
        "        blob = cv2.dnn.blobFromImage(face_img, 1, (227, 227), MODEL_MEAN_VALUES, swapRB=False)\n",
        "\n",
        "      #Predict Gender\n",
        "        gender_net.setInput(blob)\n",
        "        gender_preds = gender_net.forward()\n",
        "        gender = gender_list[gender_preds[0].argmax()]\n",
        "        #print(\"Gender : \" + gender)\n",
        "\n",
        "      #Predict Age\n",
        "        age_net.setInput(blob)\n",
        "        age_preds = age_net.forward()\n",
        "        age = age_list[age_preds[0].argmax()]\n",
        "        #print(\"Age Range: \" + age)\n",
        "\n",
        "        overlay_text = \"%s %s\" % (gender, age)\n",
        "        cv2.putText(image, overlay_text, (x, y), font, 1, (255, 255, 255), 2, cv2.LINE_AA)\n",
        "      output_movie.write(image)\n",
        "  output_movie.release()\n",
        "  print(framecount)\n",
        "\n",
        "# Running made functions\n",
        "age_net, gender_net = load_caffe_models()\n",
        "\n",
        "video_detector(age_net, gender_net)\n",
        "        "
      ],
      "execution_count": null,
      "outputs": [
        {
          "output_type": "stream",
          "text": [
            "300\n"
          ],
          "name": "stdout"
        }
      ]
    }
  ]
}
